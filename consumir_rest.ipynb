{
 "cells": [
  {
   "cell_type": "code",
   "execution_count": 172,
   "id": "6c87de75-82d9-4473-87ad-30dd965fd9ee",
   "metadata": {},
   "outputs": [],
   "source": [
    "import json\n",
    "import requests"
   ]
  },
  {
   "cell_type": "code",
   "execution_count": 173,
   "id": "6a95cccf-40dc-42ef-bb90-c75f54cdc0d1",
   "metadata": {},
   "outputs": [],
   "source": [
    "URL = 'http://127.0.0.1:5000'"
   ]
  },
  {
   "cell_type": "code",
   "execution_count": null,
   "id": "0aff87fc-97e5-4cfa-9cc3-8176d24b6f1c",
   "metadata": {},
   "outputs": [],
   "source": []
  },
  {
   "cell_type": "markdown",
   "id": "aad868f7-b1fd-495b-9d63-48045d1ba52a",
   "metadata": {},
   "source": [
    "<b> GET /hoteis </b>"
   ]
  },
  {
   "cell_type": "code",
   "execution_count": 3,
   "id": "9c1796d0-daaa-488c-96c4-c944a470eab5",
   "metadata": {},
   "outputs": [],
   "source": [
    "resposta_hoteis = requests.request('GET', URL + '/hoteis')"
   ]
  },
  {
   "cell_type": "code",
   "execution_count": 5,
   "id": "4e060fa3-e8db-424e-be83-7564a313f983",
   "metadata": {},
   "outputs": [
    {
     "data": {
      "text/plain": [
       "200"
      ]
     },
     "execution_count": 5,
     "metadata": {},
     "output_type": "execute_result"
    }
   ],
   "source": [
    "resposta_hoteis.status_code"
   ]
  },
  {
   "cell_type": "code",
   "execution_count": 7,
   "id": "06dbee10-6128-4dd5-8943-d8869978eaf9",
   "metadata": {},
   "outputs": [],
   "source": [
    "hoteis = resposta_hoteis.json()"
   ]
  },
  {
   "cell_type": "code",
   "execution_count": 9,
   "id": "4e76dd6b-8dc9-41ff-9321-5fcb191f9955",
   "metadata": {},
   "outputs": [],
   "source": [
    "primeiro_elemento = hoteis['hoteis'][0]"
   ]
  },
  {
   "cell_type": "code",
   "execution_count": 10,
   "id": "416298f6-37e2-4994-8476-724607951620",
   "metadata": {},
   "outputs": [
    {
     "data": {
      "text/plain": [
       "{'hotel_id': 'alpha',\n",
       " 'nome': 'Alpha Hotel',\n",
       " 'estrelas': 4.7,\n",
       " 'diaria': 520.44,\n",
       " 'cidade': 'Rio de Janeiro',\n",
       " 'site_id': 1}"
      ]
     },
     "execution_count": 10,
     "metadata": {},
     "output_type": "execute_result"
    }
   ],
   "source": [
    "primeiro_elemento"
   ]
  },
  {
   "cell_type": "code",
   "execution_count": 11,
   "id": "48176a5d-f889-4fba-9980-97fa24a0de9e",
   "metadata": {},
   "outputs": [],
   "source": [
    "lista_hoteis = hoteis['hoteis']"
   ]
  },
  {
   "cell_type": "code",
   "execution_count": 12,
   "id": "24f66604-283d-424a-9067-517aea31f360",
   "metadata": {},
   "outputs": [
    {
     "name": "stdout",
     "output_type": "stream",
     "text": [
      "Alpha Hotel\n",
      "Bravo Hotel\n",
      "Charlie Hotel\n",
      "Echo Hotel\n",
      "Foxtrot Hotel\n",
      "Globo Hotel\n"
     ]
    }
   ],
   "source": [
    "for hotel in lista_hoteis:\n",
    "    print(hotel['nome'])"
   ]
  },
  {
   "cell_type": "code",
   "execution_count": 4,
   "id": "e6cc8dd5-0bf6-4fe0-8b05-aa5032ce396d",
   "metadata": {},
   "outputs": [],
   "source": [
    "rio_de_janeiro = requests.request('GET', URL + '/hoteis?cidade=Rio de Janeiro')"
   ]
  },
  {
   "cell_type": "code",
   "execution_count": 6,
   "id": "0b5548db-8e2c-4573-82b8-203c012c0283",
   "metadata": {},
   "outputs": [
    {
     "data": {
      "text/plain": [
       "{'hoteis': [{'hotel_id': 'alpha',\n",
       "   'nome': 'Alpha Hotel',\n",
       "   'estrelas': 4.7,\n",
       "   'diaria': 520.44,\n",
       "   'cidade': 'Rio de Janeiro',\n",
       "   'site_id': 1},\n",
       "  {'hotel_id': 'foxtrot',\n",
       "   'nome': 'Foxtrot Hotel',\n",
       "   'estrelas': 5.0,\n",
       "   'diaria': 988.9,\n",
       "   'cidade': 'Rio de Janeiro',\n",
       "   'site_id': 1}]}"
      ]
     },
     "execution_count": 6,
     "metadata": {},
     "output_type": "execute_result"
    }
   ],
   "source": [
    "rio_de_janeiro.json()"
   ]
  },
  {
   "cell_type": "code",
   "execution_count": null,
   "id": "7bff198f-3730-417e-aab1-cf6253a262e2",
   "metadata": {},
   "outputs": [],
   "source": []
  },
  {
   "cell_type": "markdown",
   "id": "7c00a233-8405-4c95-943d-b5572f3f399c",
   "metadata": {},
   "source": [
    "<b> POST /cadastro </b>"
   ]
  },
  {
   "cell_type": "code",
   "execution_count": 7,
   "id": "215f68c0-369e-478b-b687-e74edf996aad",
   "metadata": {},
   "outputs": [],
   "source": [
    "endpoint_cadastro = URL + '/cadastro'"
   ]
  },
  {
   "cell_type": "code",
   "execution_count": 8,
   "id": "dfbeced3-3950-4cef-9e4d-46ac3c40b0cc",
   "metadata": {},
   "outputs": [
    {
     "data": {
      "text/plain": [
       "'http://127.0.0.1:5000/cadastro'"
      ]
     },
     "execution_count": 8,
     "metadata": {},
     "output_type": "execute_result"
    }
   ],
   "source": [
    "endpoint_cadastro"
   ]
  },
  {
   "cell_type": "code",
   "execution_count": 14,
   "id": "d27d12de-823b-46d1-96ea-1cf44e7900e1",
   "metadata": {},
   "outputs": [],
   "source": [
    "body_cadastro = {\n",
    "    'login': 'user',\n",
    "    'senha': 'Utiliz3Senh@FoRTe'\n",
    "}"
   ]
  },
  {
   "cell_type": "code",
   "execution_count": 15,
   "id": "f179ebd3-3dba-4223-ac15-4870c893ff5f",
   "metadata": {},
   "outputs": [],
   "source": [
    "headers_cadastro = {\n",
    "    'Content-Type': 'application/json'\n",
    "}"
   ]
  },
  {
   "cell_type": "code",
   "execution_count": 16,
   "id": "59bf8ccb-b245-4c9e-957a-4cde5b86271e",
   "metadata": {},
   "outputs": [],
   "source": [
    "resposta_cadastro = requests.request('POST', endpoint_cadastro, json=body_cadastro, headers=headers_cadastro)"
   ]
  },
  {
   "cell_type": "code",
   "execution_count": 17,
   "id": "6f456ed6-f8e3-4dd7-8dd8-ab305a1e3910",
   "metadata": {},
   "outputs": [
    {
     "data": {
      "text/plain": [
       "201"
      ]
     },
     "execution_count": 17,
     "metadata": {},
     "output_type": "execute_result"
    }
   ],
   "source": [
    "resposta_cadastro.status_code"
   ]
  },
  {
   "cell_type": "code",
   "execution_count": 18,
   "id": "6533e757-81e1-4e5f-8320-eb7ed047b539",
   "metadata": {},
   "outputs": [
    {
     "data": {
      "text/plain": [
       "{'message': 'User create sucessfully'}"
      ]
     },
     "execution_count": 18,
     "metadata": {},
     "output_type": "execute_result"
    }
   ],
   "source": [
    "resposta_cadastro.json()"
   ]
  },
  {
   "cell_type": "code",
   "execution_count": null,
   "id": "41f9efaf-f209-4b67-93c6-05a6cfe26c5e",
   "metadata": {},
   "outputs": [],
   "source": []
  },
  {
   "cell_type": "markdown",
   "id": "fa821d8f-490f-4222-bf21-9993e59f905f",
   "metadata": {},
   "source": [
    "<b> POST /login </b>"
   ]
  },
  {
   "cell_type": "code",
   "execution_count": 174,
   "id": "ee6bbf3d-8219-4b6b-8e8e-32f9abddd9cf",
   "metadata": {},
   "outputs": [],
   "source": [
    "endpoint_login = URL + '/login'"
   ]
  },
  {
   "cell_type": "code",
   "execution_count": 175,
   "id": "2e556af0-abe6-467b-8d1f-4dac144d6768",
   "metadata": {},
   "outputs": [],
   "source": [
    "resposta_login = requests.request('POST', endpoint_login, json=body_cadastro, headers=headers_cadastro)"
   ]
  },
  {
   "cell_type": "code",
   "execution_count": 176,
   "id": "08ccb543-e663-4407-9686-5d2e977f9103",
   "metadata": {},
   "outputs": [],
   "source": [
    "token = resposta_login.json()"
   ]
  },
  {
   "cell_type": "code",
   "execution_count": null,
   "id": "29453d7e-830c-4a9c-8caf-c20159aff871",
   "metadata": {},
   "outputs": [],
   "source": []
  },
  {
   "cell_type": "markdown",
   "id": "b7d4fd45-eeae-4fd7-be29-a747bdea4c30",
   "metadata": {},
   "source": [
    "<b> POST /hoteis/{hotel_id} </b>"
   ]
  },
  {
   "cell_type": "code",
   "execution_count": 70,
   "id": "72f535e0-2cfc-4637-9738-3506375da3da",
   "metadata": {},
   "outputs": [],
   "source": [
    "endpoint_hotel_id = URL + '/hoteis/nossohotel'"
   ]
  },
  {
   "cell_type": "code",
   "execution_count": 77,
   "id": "2e3600ed-d580-4eff-84e7-0bc0cf307dd4",
   "metadata": {},
   "outputs": [],
   "source": [
    "body_hotel_id = {\n",
    "    'nome': 'Nosso Hotel',\n",
    "    'estrelas': 4.3,\n",
    "    'diaria': 334.00,\n",
    "    'cidade': 'Campinas',\n",
    "    'site_id': 1\n",
    "    \n",
    "}"
   ]
  },
  {
   "cell_type": "code",
   "execution_count": 78,
   "id": "b61a2120-cbeb-43ff-93ff-d212c20fe7a1",
   "metadata": {},
   "outputs": [],
   "source": [
    "header_hotel_id = {\n",
    "    'Content-Type': 'application/json',\n",
    "    'Authorization': 'Bearer '+token['access_token']\n",
    "}"
   ]
  },
  {
   "cell_type": "code",
   "execution_count": 79,
   "id": "219090c3-ba90-4d3e-b9c5-366c8a9f0cd2",
   "metadata": {},
   "outputs": [],
   "source": [
    "resposta_hotel_id = requests.request('POST', endpoint_hotel_id, json=body_hotel_id, headers=header_hotel_id)"
   ]
  },
  {
   "cell_type": "code",
   "execution_count": 80,
   "id": "7ac582f3-bdb6-4497-993b-24a621d1bce5",
   "metadata": {},
   "outputs": [
    {
     "data": {
      "text/plain": [
       "{'hotel_id': 'nossohotel',\n",
       " 'nome': 'Nosso Hotel',\n",
       " 'estrelas': 4.3,\n",
       " 'diaria': 334.0,\n",
       " 'cidade': 'Campinas',\n",
       " 'site_id': 1}"
      ]
     },
     "execution_count": 80,
     "metadata": {},
     "output_type": "execute_result"
    }
   ],
   "source": [
    "resposta_hotel_id.json()"
   ]
  },
  {
   "cell_type": "code",
   "execution_count": null,
   "id": "f7ac4d6d-8c6a-4e9d-83c3-4e37b1ed5162",
   "metadata": {},
   "outputs": [],
   "source": []
  },
  {
   "cell_type": "markdown",
   "id": "e184362c-e791-4a4a-9620-704ca16c6cdd",
   "metadata": {},
   "source": [
    "<b> PUT /hoteis/{hotel_id} </b>"
   ]
  },
  {
   "cell_type": "code",
   "execution_count": 181,
   "id": "68858dc2-296c-43a0-b663-8787e9a10d17",
   "metadata": {},
   "outputs": [],
   "source": [
    "endpoint_hotel_put = URL + '/hoteis/nossohotel'"
   ]
  },
  {
   "cell_type": "code",
   "execution_count": 182,
   "id": "8a483954-9111-40b3-809f-2529fd0a606f",
   "metadata": {},
   "outputs": [],
   "source": [
    "body_hotel_put = {\n",
    "    \"nome\": \"Nosso Hotel Alterado 3\",\n",
    "    \"estrelas\": 4.3,\n",
    "    \"diaria\": 334.00,\n",
    "    \"cidade\": \"Campinas\",\n",
    "    \"site_id\": 2\n",
    "}"
   ]
  },
  {
   "cell_type": "code",
   "execution_count": 183,
   "id": "bc9cc366-2940-4898-a7bf-e1ebdcf8b97e",
   "metadata": {},
   "outputs": [],
   "source": [
    "header_hotel_put = {\n",
    "    'Content-Type': 'application/json',\n",
    "    'Authorization': 'Bearer '+token['access_token']\n",
    "}"
   ]
  },
  {
   "cell_type": "code",
   "execution_count": 184,
   "id": "d70136c3-a17a-460c-95f2-93daced2b6cc",
   "metadata": {},
   "outputs": [],
   "source": [
    "resposta_hotel_put = requests.request('PUT', endpoint_hotel_put, json=body_hotel_put, headers=header_hotel_put)"
   ]
  },
  {
   "cell_type": "code",
   "execution_count": 185,
   "id": "3ca8555c-dbc4-451f-93f1-880d7ddda81e",
   "metadata": {},
   "outputs": [
    {
     "data": {
      "text/plain": [
       "{'hotel_id': 'nossohotel',\n",
       " 'nome': 'Nosso Hotel Alterado 3',\n",
       " 'estrelas': 4.3,\n",
       " 'diaria': 334.0,\n",
       " 'cidade': 'Campinas',\n",
       " 'site_id': 2}"
      ]
     },
     "execution_count": 185,
     "metadata": {},
     "output_type": "execute_result"
    }
   ],
   "source": [
    "resposta_hotel_put.json()"
   ]
  },
  {
   "cell_type": "code",
   "execution_count": null,
   "id": "edccb929-a826-4823-b08f-a038010c4163",
   "metadata": {},
   "outputs": [],
   "source": []
  },
  {
   "cell_type": "markdown",
   "id": "ff22c328-36a6-431f-9b40-93bf0ef4a187",
   "metadata": {},
   "source": [
    "<b> DELETE /hoteis/{hotel_id} </b>"
   ]
  },
  {
   "cell_type": "code",
   "execution_count": 186,
   "id": "6ab2f4b1-cb88-4581-9d5e-13bff1fa5b3b",
   "metadata": {},
   "outputs": [],
   "source": [
    "resposta_hotel_delete = requests.request('DELETE', endpoint_hotel_put, json=body_hotel_put, headers=header_hotel_put)"
   ]
  },
  {
   "cell_type": "code",
   "execution_count": 187,
   "id": "eec55e99-9d20-4a46-b324-2dcb397dda42",
   "metadata": {},
   "outputs": [
    {
     "data": {
      "text/plain": [
       "200"
      ]
     },
     "execution_count": 187,
     "metadata": {},
     "output_type": "execute_result"
    }
   ],
   "source": [
    "resposta_hotel_delete.status_code"
   ]
  },
  {
   "cell_type": "code",
   "execution_count": null,
   "id": "01af3f71-16cf-466e-b520-196267905f82",
   "metadata": {},
   "outputs": [],
   "source": []
  }
 ],
 "metadata": {
  "kernelspec": {
   "display_name": "Python 3 (ipykernel)",
   "language": "python",
   "name": "python3"
  },
  "language_info": {
   "codemirror_mode": {
    "name": "ipython",
    "version": 3
   },
   "file_extension": ".py",
   "mimetype": "text/x-python",
   "name": "python",
   "nbconvert_exporter": "python",
   "pygments_lexer": "ipython3",
   "version": "3.13.2"
  }
 },
 "nbformat": 4,
 "nbformat_minor": 5
}
